{
 "cells": [
  {
   "cell_type": "code",
   "execution_count": 1,
   "id": "d7f29e2f-5c6b-4785-af92-869e9ce935ad",
   "metadata": {},
   "outputs": [
    {
     "ename": "AttributeError",
     "evalue": "'Web3' object has no attribute 'isConnected'",
     "output_type": "error",
     "traceback": [
      "\u001b[0;31m---------------------------------------------------------------------------\u001b[0m",
      "\u001b[0;31mAttributeError\u001b[0m                            Traceback (most recent call last)",
      "Cell \u001b[0;32mIn[1], line 14\u001b[0m\n\u001b[1;32m     11\u001b[0m celo_rpc_url \u001b[38;5;241m=\u001b[39m \u001b[38;5;124m\"\u001b[39m\u001b[38;5;124mhttps://forno.celo.org\u001b[39m\u001b[38;5;124m\"\u001b[39m\n\u001b[1;32m     12\u001b[0m web3 \u001b[38;5;241m=\u001b[39m Web3(Web3\u001b[38;5;241m.\u001b[39mHTTPProvider(celo_rpc_url))\n\u001b[0;32m---> 14\u001b[0m \u001b[38;5;28;01mif\u001b[39;00m \u001b[43mweb3\u001b[49m\u001b[38;5;241;43m.\u001b[39;49m\u001b[43misConnected\u001b[49m():\n\u001b[1;32m     15\u001b[0m     \u001b[38;5;28mprint\u001b[39m(\u001b[38;5;124m\"\u001b[39m\u001b[38;5;124mErfolgreich mit der Celo-Blockchain verbunden!\u001b[39m\u001b[38;5;124m\"\u001b[39m)\n\u001b[1;32m     16\u001b[0m \u001b[38;5;28;01melse\u001b[39;00m:\n",
      "\u001b[0;31mAttributeError\u001b[0m: 'Web3' object has no attribute 'isConnected'"
     ]
    }
   ],
   "source": [
    "import os\n",
    "from pyrogram import Client, filters\n",
    "import sqlite3\n",
    "from dotenv import load_dotenv\n",
    "from web3 import Web3\n",
    "\n",
    "# Laden der Umgebungsvariablen\n",
    "load_dotenv()\n",
    "\n",
    "# Verbindung zur Celo-Blockchain herstellen\n",
    "celo_rpc_url = \"https://forno.celo.org\"\n",
    "web3 = Web3(Web3.HTTPProvider(celo_rpc_url))\n",
    "\n",
    "if web3.isConnected():\n",
    "    print(\"Erfolgreich mit der Celo-Blockchain verbunden!\")\n",
    "else:\n",
    "    print(\"Fehler bei der Verbindung zur Celo-Blockchain.\")\n"
   ]
  },
  {
   "cell_type": "code",
   "execution_count": 1,
   "id": "7437995c-d18a-4acb-8c04-2edbeb6fb07e",
   "metadata": {},
   "outputs": [
    {
     "ename": "AttributeError",
     "evalue": "'HTTPProvider' object has no attribute 'isConnected'",
     "output_type": "error",
     "traceback": [
      "\u001b[0;31m---------------------------------------------------------------------------\u001b[0m",
      "\u001b[0;31mAttributeError\u001b[0m                            Traceback (most recent call last)",
      "Cell \u001b[0;32mIn[1], line 8\u001b[0m\n\u001b[1;32m      5\u001b[0m web3 \u001b[38;5;241m=\u001b[39m Web3(Web3\u001b[38;5;241m.\u001b[39mHTTPProvider(celo_rpc_url))\n\u001b[1;32m      7\u001b[0m \u001b[38;5;66;03m# Verbindung überprüfen\u001b[39;00m\n\u001b[0;32m----> 8\u001b[0m \u001b[38;5;28;01mif\u001b[39;00m \u001b[43mweb3\u001b[49m\u001b[38;5;241;43m.\u001b[39;49m\u001b[43mprovider\u001b[49m\u001b[38;5;241;43m.\u001b[39;49m\u001b[43misConnected\u001b[49m():\n\u001b[1;32m      9\u001b[0m     \u001b[38;5;28mprint\u001b[39m(\u001b[38;5;124m\"\u001b[39m\u001b[38;5;124mErfolgreich mit der Celo-Blockchain verbunden!\u001b[39m\u001b[38;5;124m\"\u001b[39m)\n\u001b[1;32m     10\u001b[0m \u001b[38;5;28;01melse\u001b[39;00m:\n",
      "\u001b[0;31mAttributeError\u001b[0m: 'HTTPProvider' object has no attribute 'isConnected'"
     ]
    }
   ],
   "source": [
    "from web3 import Web3\n",
    "\n",
    "# Verbindung zur Celo-Blockchain herstellen\n",
    "celo_rpc_url = \"https://forno.celo.org\"\n",
    "web3 = Web3(Web3.HTTPProvider(celo_rpc_url))\n",
    "\n",
    "# Verbindung überprüfen\n",
    "if web3.provider.isConnected():\n",
    "    print(\"Erfolgreich mit der Celo-Blockchain verbunden!\")\n",
    "else:\n",
    "    print(\"Fehler bei der Verbindung zur Celo-Blockchain.\")\n"
   ]
  },
  {
   "cell_type": "code",
   "execution_count": 2,
   "id": "95054cdc-7ea0-4b96-8c69-2cfa35195e7f",
   "metadata": {},
   "outputs": [
    {
     "name": "stdout",
     "output_type": "stream",
     "text": [
      "Erfolgreich mit der Celo-Blockchain verbunden!\n"
     ]
    }
   ],
   "source": [
    "from web3 import Web3\n",
    "\n",
    "# Verbindung zur Celo-Blockchain herstellen\n",
    "celo_rpc_url = \"https://forno.celo.org\"\n",
    "web3 = Web3(Web3.HTTPProvider(celo_rpc_url))\n",
    "\n",
    "# Überprüfen, ob die Verbindung erfolgreich ist\n",
    "if web3.is_connected():\n",
    "    print(\"Erfolgreich mit der Celo-Blockchain verbunden!\")\n",
    "else:\n",
    "    print(\"Fehler bei der Verbindung zur Celo-Blockchain.\")\n"
   ]
  },
  {
   "cell_type": "code",
   "execution_count": null,
   "id": "c48b9885-6632-46cd-a119-be55a40764d0",
   "metadata": {},
   "outputs": [],
   "source": []
  }
 ],
 "metadata": {
  "kernelspec": {
   "display_name": "Python 3 (ipykernel)",
   "language": "python",
   "name": "python3"
  },
  "language_info": {
   "codemirror_mode": {
    "name": "ipython",
    "version": 3
   },
   "file_extension": ".py",
   "mimetype": "text/x-python",
   "name": "python",
   "nbconvert_exporter": "python",
   "pygments_lexer": "ipython3",
   "version": "3.9.0"
  }
 },
 "nbformat": 4,
 "nbformat_minor": 5
}
